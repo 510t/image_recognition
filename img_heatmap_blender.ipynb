{
 "cells": [
  {
   "cell_type": "code",
   "execution_count": null,
   "id": "1e6540b2-7ab4-474f-bd3c-bb9cc8962e4e",
   "metadata": {},
   "outputs": [],
   "source": [
    "import cv2\n",
    "import matplotlib.pyplot as plt\n",
    "import numpy as np\n",
    "\n",
    "for i in range(0,30):\n",
    "    img = cv2.imread('data/result/' + str(i) + '.jpg')\n",
    "    heat = cv2.imread('data/result/' + str(i) + '.png')\n",
    "\n",
    "    alpha = 0.7\n",
    "    blended = cv2.addWeighted(img, alpha, heat, 1 - alpha, 0)\n",
    "\n",
    "    # 結果を表示する。\n",
    "    plt.imshow(cv2.cvtColor(blended, cv2.COLOR_BGR2RGB))\n",
    "    plt.axis('off')\n",
    "    plt.show()\n",
    "    \n",
    "    img = array_to_img(inst).resize((1920, 1080))\n",
    "    img.save('data/result/' + str(i) + '_b.png')\n",
    "    i += 1"
   ]
  },
  {
   "cell_type": "code",
   "execution_count": null,
   "id": "58a214ee-1a3f-4113-af48-c2d64289097d",
   "metadata": {},
   "outputs": [],
   "source": []
  }
 ],
 "metadata": {
  "kernelspec": {
   "display_name": "Python 3 (ipykernel)",
   "language": "python",
   "name": "python3"
  },
  "language_info": {
   "codemirror_mode": {
    "name": "ipython",
    "version": 3
   },
   "file_extension": ".py",
   "mimetype": "text/x-python",
   "name": "python",
   "nbconvert_exporter": "python",
   "pygments_lexer": "ipython3",
   "version": "3.9.12"
  }
 },
 "nbformat": 4,
 "nbformat_minor": 5
}
