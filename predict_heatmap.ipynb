{
 "cells": [
  {
   "cell_type": "code",
   "execution_count": 8,
   "id": "cecb7b98-1125-4657-9f9c-a919f9ae6c98",
   "metadata": {},
   "outputs": [],
   "source": [
    "# var inspector (install in anaconda prompt):\n",
    "#   conda install -c conda-forge jupyterlab-variableinspector"
   ]
  },
  {
   "cell_type": "code",
   "execution_count": 9,
   "id": "04bbd9aa-4ce8-44e5-91b8-b0731ae126f7",
   "metadata": {
    "tags": []
   },
   "outputs": [],
   "source": [
    "# %conda install tensorflow\n",
    "# %conda install numpy\n",
    "# %conda install pandas\n",
    "# %conda install -c conda-forge matplotlib\n",
    "# %conda install keras\n",
    "# %conda install Pillow"
   ]
  },
  {
   "cell_type": "code",
   "execution_count": 3,
   "id": "140a03da-0c73-4ca8-843e-6e111c7f7529",
   "metadata": {},
   "outputs": [
    {
     "data": {
      "text/plain": [
       "[name: \"/device:CPU:0\"\n",
       " device_type: \"CPU\"\n",
       " memory_limit: 268435456\n",
       " locality {\n",
       " }\n",
       " incarnation: 6687421868738959453]"
      ]
     },
     "execution_count": 3,
     "metadata": {},
     "output_type": "execute_result"
    }
   ],
   "source": [
    "from tensorflow.python.client import device_lib\n",
    "device_lib.list_local_devices()"
   ]
  },
  {
   "cell_type": "code",
   "execution_count": 1,
   "id": "95fd8a90-f6fa-4981-bf9c-96e3aebea4f4",
   "metadata": {},
   "outputs": [],
   "source": [
    "import pandas as pd\n",
    "pd.set_option('display.max_rows', 50)\n",
    "pd.set_option('display.max_columns', 50)"
   ]
  },
  {
   "cell_type": "code",
   "execution_count": 94,
   "id": "4fec70df-9fb0-4406-8fc0-6d344829c09d",
   "metadata": {},
   "outputs": [],
   "source": [
    "INPUT_HEIGHT = 270\n",
    "INPUT_WIDTH = 480\n",
    "INPUT_CHANNEL = 3"
   ]
  },
  {
   "cell_type": "code",
   "execution_count": 95,
   "id": "cf59ff6c-a032-4cf7-8b62-678a6565404e",
   "metadata": {
    "tags": []
   },
   "outputs": [
    {
     "name": "stdout",
     "output_type": "stream",
     "text": [
      "Model: \"model_4\"\n",
      "_________________________________________________________________\n",
      "Layer (type)                 Output Shape              Param #   \n",
      "=================================================================\n",
      "input_8 (InputLayer)         [(None, 270, 480, 3)]     0         \n",
      "_________________________________________________________________\n",
      "conv2d_78 (Conv2D)           (None, 270, 480, 32)      2432      \n",
      "_________________________________________________________________\n",
      "max_pooling2d_52 (MaxPooling (None, 54, 96, 32)        0         \n",
      "_________________________________________________________________\n",
      "conv2d_79 (Conv2D)           (None, 54, 96, 8)         2312      \n",
      "_________________________________________________________________\n",
      "max_pooling2d_53 (MaxPooling (None, 18, 32, 8)         0         \n",
      "_________________________________________________________________\n",
      "conv2d_80 (Conv2D)           (None, 18, 32, 8)         584       \n",
      "_________________________________________________________________\n",
      "max_pooling2d_54 (MaxPooling (None, 9, 16, 8)          0         \n",
      "_________________________________________________________________\n",
      "conv2d_81 (Conv2D)           (None, 9, 16, 8)          584       \n",
      "_________________________________________________________________\n",
      "up_sampling2d_21 (UpSampling (None, 18, 32, 8)         0         \n",
      "_________________________________________________________________\n",
      "conv2d_82 (Conv2D)           (None, 18, 32, 8)         584       \n",
      "_________________________________________________________________\n",
      "up_sampling2d_22 (UpSampling (None, 54, 96, 8)         0         \n",
      "_________________________________________________________________\n",
      "conv2d_83 (Conv2D)           (None, 54, 96, 16)        1168      \n",
      "_________________________________________________________________\n",
      "up_sampling2d_23 (UpSampling (None, 270, 480, 16)      0         \n",
      "_________________________________________________________________\n",
      "conv2d_84 (Conv2D)           (None, 270, 480, 1)       145       \n",
      "=================================================================\n",
      "Total params: 7,809\n",
      "Trainable params: 7,809\n",
      "Non-trainable params: 0\n",
      "_________________________________________________________________\n"
     ]
    }
   ],
   "source": [
    "import tensorflow as tf\n",
    "from tensorflow.keras import datasets, layers, models\n",
    "\n",
    "inputs = tf.keras.layers.Input(shape=(INPUT_HEIGHT,INPUT_WIDTH, INPUT_CHANNEL))\n",
    "\n",
    "x = layers.Conv2D(32, (5, 5), activation='relu', padding='same')(inputs)\n",
    "x = layers.MaxPooling2D((5, 5), padding='same')(x)\n",
    "x = layers.Conv2D(8, (3, 3), activation='relu', padding='same')(x)\n",
    "x = layers.MaxPooling2D((3, 3), padding='same')(x)\n",
    "x = layers.Conv2D(8, (3, 3), activation='relu', padding='same')(x)\n",
    "encoded = layers.MaxPooling2D((2, 2), padding='same')(x)\n",
    "\n",
    "x = layers.Conv2D(8, (3, 3), activation='relu', padding='same')(encoded)\n",
    "x = layers.UpSampling2D((2, 2))(x)\n",
    "x = layers.Conv2D(8, (3, 3), activation='relu', padding='same')(x)\n",
    "x = layers.UpSampling2D((3, 3))(x)\n",
    "x = layers.Conv2D(16, (3, 3), activation='relu', padding=\"same\")(x)\n",
    "x = layers.UpSampling2D((5, 5))(x)\n",
    "decoded = layers.Conv2D(1, (3, 3), activation='sigmoid', padding='same')(x)\n",
    "\n",
    "model = tf.keras.Model(inputs, decoded)\n",
    "model.compile(optimizer='adam', loss='binary_crossentropy')\n",
    "model.summary()\n",
    "\n",
    "\n",
    "# model = models.Sequential()\n",
    "# # encoding\n",
    "# model.add(layers.Conv2D(32, (5, 5), activation='relu', input_shape=(INPUT_HEIGHT, INPUT_WIDTH, 3), padding='same'))\n",
    "# model.add(layers.MaxPooling2D((5, 5), padding='same'))\n",
    "# model.add(layers.Conv2D(32, (5, 5), activation='relu', input_shape=(INPUT_HEIGHT, INPUT_WIDTH, 3), padding='same'))\n",
    "# model.add(layers.MaxPooling2D((3, 3), padding='same'))\n",
    "# model.add(layers.Conv2D(32, (5, 5), activation='relu', input_shape=(INPUT_HEIGHT, INPUT_WIDTH, 3), padding='same'))\n",
    "# model.add(layers.MaxPooling2D((2, 2), padding='same'))\n",
    "# # decoding\n",
    "# model.add(layers.Conv2D(32, (5, 5), activation='relu', input_shape=(INPUT_HEIGHT, INPUT_WIDTH, 3), padding='same'))\n",
    "# model.add(layers.UpSampling2D((2, 2)))\n",
    "# model.add(layers.Conv2D(32, (5, 5), activation='relu', input_shape=(INPUT_HEIGHT, INPUT_WIDTH, 3), padding='same'))\n",
    "# model.add(layers.UpSampling2D((3, 3)))\n",
    "# model.add(layers.Conv2D(32, (5, 5), activation='relu', input_shape=(INPUT_HEIGHT, INPUT_WIDTH, 3), padding='same'))\n",
    "# model.add(layers.UpSampling2D((5, 5)))\n",
    "\n",
    "# model.summary()"
   ]
  },
  {
   "cell_type": "code",
   "execution_count": 102,
   "id": "901dd562-510a-4c27-accd-335aca2bd3b3",
   "metadata": {
    "tags": []
   },
   "outputs": [],
   "source": [
    "import numpy as np\n",
    "from tensorflow.keras.preprocessing.image import load_img, img_to_array\n",
    "from tensorflow.keras.applications.vgg16 import preprocess_input\n",
    "\n",
    "img1 = load_img('data/stimuli.out/1.jpg', target_size=(INPUT_HEIGHT, INPUT_WIDTH))\n",
    "img2 = load_img('data/stimuli.out/2.jpg', target_size=(INPUT_HEIGHT, INPUT_WIDTH))\n",
    "images = np.asarray([img_to_array(img1)])\n",
    "X = images / 255\n",
    "# X = preprocess_input(images)\n",
    "\n",
    "heat1 = load_img('data/heatmap/1_heatmap.png', color_mode='grayscale', target_size=(INPUT_HEIGHT, INPUT_WIDTH))\n",
    "heat2 = load_img('data/heatmap/2_heatmap.png', color_mode='grayscale', target_size=(INPUT_HEIGHT, INPUT_WIDTH))\n",
    "heats = np.asarray([img_to_array(heat1)])\n",
    "y = heats / 256\n",
    "# y = preprocess_input(heats)"
   ]
  },
  {
   "cell_type": "code",
   "execution_count": 103,
   "id": "59d3d4a3-b1db-4706-87c8-47c073be12a2",
   "metadata": {
    "tags": []
   },
   "outputs": [
    {
     "data": {
      "text/plain": [
       "(1, 270, 480, 1)"
      ]
     },
     "execution_count": 103,
     "metadata": {},
     "output_type": "execute_result"
    }
   ],
   "source": [
    "y.shape"
   ]
  },
  {
   "cell_type": "code",
   "execution_count": 110,
   "id": "691a70ef-15d6-4c09-bd59-52ab71ba9541",
   "metadata": {
    "tags": []
   },
   "outputs": [
    {
     "name": "stdout",
     "output_type": "stream",
     "text": [
      "(1, 270, 480, 1)\n",
      "Epoch 1/5\n",
      "1/1 [==============================] - 0s 318ms/step - loss: 0.0000e+00 - accuracy: 0.2765\n",
      "Epoch 2/5\n",
      "1/1 [==============================] - 0s 27ms/step - loss: 0.0000e+00 - accuracy: 0.2765\n",
      "Epoch 3/5\n",
      "1/1 [==============================] - 0s 21ms/step - loss: 0.0000e+00 - accuracy: 0.2765\n",
      "Epoch 4/5\n",
      "1/1 [==============================] - 0s 18ms/step - loss: 0.0000e+00 - accuracy: 0.2765\n",
      "Epoch 5/5\n",
      "1/1 [==============================] - 0s 19ms/step - loss: 0.0000e+00 - accuracy: 0.2765\n"
     ]
    },
    {
     "data": {
      "text/plain": [
       "<keras.callbacks.History at 0x28aa51ec070>"
      ]
     },
     "execution_count": 110,
     "metadata": {},
     "output_type": "execute_result"
    }
   ],
   "source": [
    "model.compile(optimizer='adam',\n",
    "              loss='sparse_categorical_crossentropy',\n",
    "              metrics=['accuracy'])\n",
    "print(y.shape)\n",
    "model.fit(X, y, batch_size=1, epochs=5)"
   ]
  },
  {
   "cell_type": "code",
   "execution_count": 111,
   "id": "adbadd74-89fd-4c73-bfef-93fef073e14f",
   "metadata": {},
   "outputs": [],
   "source": [
    "from tensorflow.keras.preprocessing.image import array_to_img\n",
    "x_test = np.asarray([img_to_array(img2)]) / 255\n",
    "pred_y = model.predict(x_test)\n",
    "\n",
    "pred_img = array_to_img(pred_y[0])"
   ]
  },
  {
   "cell_type": "code",
   "execution_count": 112,
   "id": "256a74b1-f733-4d3e-afa9-03d82173b6b7",
   "metadata": {},
   "outputs": [
    {
     "data": {
      "image/png": "[encoded data removed]",
      "text/plain": [
       "<PIL.Image.Image image mode=L size=480x270 at 0x28AA5212EB0>"
      ]
     },
     "execution_count": 112,
     "metadata": {},
     "output_type": "execute_result"
    }
   ],
   "source": [
    "pred_img"
   ]
  },
  {
   "cell_type": "code",
   "execution_count": null,
   "id": "76783095-aa2e-41c4-91d1-46bc297870c5",
   "metadata": {},
   "outputs": [],
   "source": []
  }
 ],
 "metadata": {
  "kernelspec": {
   "display_name": "Python 3 (ipykernel)",
   "language": "python",
   "name": "python3"
  },
  "language_info": {
   "codemirror_mode": {
    "name": "ipython",
    "version": 3
   },
   "file_extension": ".py",
   "mimetype": "text/x-python",
   "name": "python",
   "nbconvert_exporter": "python",
   "pygments_lexer": "ipython3",
   "version": "3.9.12"
  }
 },
 "nbformat": 4,
 "nbformat_minor": 5
}
