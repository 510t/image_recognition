{
 "cells": [
  {
   "cell_type": "code",
   "execution_count": 8,
   "id": "cecb7b98-1125-4657-9f9c-a919f9ae6c98",
   "metadata": {},
   "outputs": [],
   "source": [
    "# var inspector (install in anaconda prompt):\n",
    "#   conda install -c conda-forge jupyterlab-variableinspector"
   ]
  },
  {
   "cell_type": "code",
   "execution_count": 9,
   "id": "04bbd9aa-4ce8-44e5-91b8-b0731ae126f7",
   "metadata": {
    "tags": []
   },
   "outputs": [],
   "source": [
    "# %conda install tensorflow\n",
    "# %conda install numpy\n",
    "# %conda install pandas\n",
    "# %conda install -c conda-forge matplotlib\n",
    "# %conda install keras\n",
    "# %conda install Pillow"
   ]
  },
  {
   "cell_type": "code",
   "execution_count": 3,
   "id": "140a03da-0c73-4ca8-843e-6e111c7f7529",
   "metadata": {},
   "outputs": [
    {
     "data": {
      "text/plain": [
       "[name: \"/device:CPU:0\"\n",
       " device_type: \"CPU\"\n",
       " memory_limit: 268435456\n",
       " locality {\n",
       " }\n",
       " incarnation: 6687421868738959453]"
      ]
     },
     "execution_count": 3,
     "metadata": {},
     "output_type": "execute_result"
    }
   ],
   "source": [
    "from tensorflow.python.client import device_lib\n",
    "device_lib.list_local_devices()"
   ]
  },
  {
   "cell_type": "code",
   "execution_count": 1,
   "id": "95fd8a90-f6fa-4981-bf9c-96e3aebea4f4",
   "metadata": {},
   "outputs": [],
   "source": [
    "import pandas as pd\n",
    "pd.set_option('display.max_rows', 50)\n",
    "pd.set_option('display.max_columns', 50)"
   ]
  },
  {
   "cell_type": "code",
   "execution_count": 94,
   "id": "4fec70df-9fb0-4406-8fc0-6d344829c09d",
   "metadata": {},
   "outputs": [],
   "source": [
    "INPUT_HEIGHT = 270\n",
    "INPUT_WIDTH = 480\n",
    "INPUT_CHANNEL = 3"
   ]
  },
  {
   "cell_type": "code",
   "execution_count": 230,
   "id": "cf59ff6c-a032-4cf7-8b62-678a6565404e",
   "metadata": {
    "tags": []
   },
   "outputs": [
    {
     "name": "stdout",
     "output_type": "stream",
     "text": [
      "Model: \"model_9\"\n",
      "_________________________________________________________________\n",
      "Layer (type)                 Output Shape              Param #   \n",
      "=================================================================\n",
      "input_10 (InputLayer)        [(None, 270, 480, 3)]     0         \n",
      "_________________________________________________________________\n",
      "conv2d_92 (Conv2D)           (None, 270, 480, 32)      2432      \n",
      "_________________________________________________________________\n",
      "max_pooling2d_58 (MaxPooling (None, 54, 96, 32)        0         \n",
      "_________________________________________________________________\n",
      "conv2d_93 (Conv2D)           (None, 54, 96, 8)         2312      \n",
      "_________________________________________________________________\n",
      "max_pooling2d_59 (MaxPooling (None, 18, 32, 8)         0         \n",
      "_________________________________________________________________\n",
      "conv2d_94 (Conv2D)           (None, 18, 32, 8)         584       \n",
      "_________________________________________________________________\n",
      "max_pooling2d_60 (MaxPooling (None, 9, 16, 8)          0         \n",
      "_________________________________________________________________\n",
      "conv2d_95 (Conv2D)           (None, 9, 16, 8)          584       \n",
      "_________________________________________________________________\n",
      "up_sampling2d_27 (UpSampling (None, 18, 32, 8)         0         \n",
      "_________________________________________________________________\n",
      "conv2d_96 (Conv2D)           (None, 18, 32, 8)         584       \n",
      "_________________________________________________________________\n",
      "up_sampling2d_28 (UpSampling (None, 54, 96, 8)         0         \n",
      "_________________________________________________________________\n",
      "conv2d_97 (Conv2D)           (None, 54, 96, 16)        1168      \n",
      "_________________________________________________________________\n",
      "up_sampling2d_29 (UpSampling (None, 270, 480, 16)      0         \n",
      "_________________________________________________________________\n",
      "conv2d_98 (Conv2D)           (None, 270, 480, 1)       145       \n",
      "=================================================================\n",
      "Total params: 7,809\n",
      "Trainable params: 7,809\n",
      "Non-trainable params: 0\n",
      "_________________________________________________________________\n"
     ]
    }
   ],
   "source": [
    "import tensorflow as tf\n",
    "from tensorflow.keras import datasets, layers, models\n",
    "\n",
    "model = models.Sequential()\n",
    "# encoding\n",
    "model.add(layers.Conv2D(64, (5, 5), activation='relu', input_shape=(INPUT_HEIGHT, INPUT_WIDTH, 3), padding='same'))\n",
    "model.add(layers.MaxPooling2D((5, 5), padding='same'))\n",
    "model.add(layers.Conv2D(32, (5, 5), activation='relu', padding='same'))\n",
    "model.add(layers.MaxPooling2D((3, 3), padding='same'))\n",
    "model.add(layers.Conv2D(32, (5, 5), activation='relu', padding='same'))\n",
    "model.add(layers.MaxPooling2D((2, 2), padding='same'))\n",
    "model.add(layers.Conv2D(32, (5, 5), activation='relu', padding='same'))\n",
    "# decoding\n",
    "model.add(layers.Conv2D(32, (5, 5), activation='relu', padding='same'))\n",
    "model.add(layers.UpSampling2D((2, 2)))\n",
    "model.add(layers.Conv2D(32, (5, 5), activation='relu', padding='same'))\n",
    "model.add(layers.UpSampling2D((3, 3)))\n",
    "model.add(layers.Conv2D(64, (5, 5), activation='relu', padding='same'))\n",
    "model.add(layers.UpSampling2D((5, 5)))\n",
    "model.add(layers.Conv2D(1, (3, 3), activation='sigmoid', padding='same'))\n",
    "\n",
    "# inputs = tf.keras.layers.Input(shape=(INPUT_HEIGHT,INPUT_WIDTH, INPUT_CHANNEL))\n",
    "\n",
    "# x = layers.Conv2D(32, (5, 5), activation='relu', padding='same')(inputs)\n",
    "# x = layers.MaxPooling2D((5, 5), padding='same')(x)\n",
    "# x = layers.Conv2D(8, (3, 3), activation='relu', padding='same')(x)\n",
    "# x = layers.MaxPooling2D((3, 3), padding='same')(x)\n",
    "# x = layers.Conv2D(8, (3, 3), activation='relu', padding='same')(x)\n",
    "# encoded = layers.MaxPooling2D((2, 2), padding='same')(x)\n",
    "\n",
    "# x = layers.Conv2D(8, (3, 3), activation='relu', padding='same')(encoded)\n",
    "# x = layers.UpSampling2D((2, 2))(x)\n",
    "# x = layers.Conv2D(8, (3, 3), activation='relu', padding='same')(x)\n",
    "# x = layers.UpSampling2D((3, 3))(x)\n",
    "# x = layers.Conv2D(16, (3, 3), activation='relu', padding=\"same\")(x)\n",
    "# x = layers.UpSampling2D((5, 5))(x)\n",
    "# decoded = layers.Conv2D(1, (3, 3), activation='sigmoid', padding='same')(x)\n",
    "\n",
    "model = tf.keras.Model(inputs, decoded)\n",
    "model.compile(optimizer='adam', loss='binary_crossentropy')\n",
    "model.summary()\n",
    "model.compile(optimizer='adam',\n",
    "              loss='sparse_categorical_crossentropy',\n",
    "              metrics=['accuracy'])"
   ]
  },
  {
   "cell_type": "code",
   "execution_count": 216,
   "id": "ab5f92bc-963a-4433-9bcc-6fc0d68888ec",
   "metadata": {},
   "outputs": [],
   "source": [
    "x_dir = 'data/stimuli.out/'\n",
    "x = x_from_dir(x_dir)\n",
    "y_dir = 'data/heatmap/'\n",
    "y = y_from_dir(y_dir)"
   ]
  },
  {
   "cell_type": "code",
   "execution_count": 220,
   "id": "2f55f7a9-460b-4d34-ae5c-f72fc55c7d33",
   "metadata": {},
   "outputs": [],
   "source": [
    "# slice all data\n",
    "TRAIN_SIZE = 270\n",
    "x_train = x[:TRAIN_SIZE]\n",
    "x_test = x[TRAIN_SIZE:]\n",
    "y_train = y[:TRAIN_SIZE]\n",
    "y_test = y[TRAIN_SIZE:]"
   ]
  },
  {
   "cell_type": "code",
   "execution_count": 231,
   "id": "18384a8b-dedd-43a4-b893-d1e169b9bcac",
   "metadata": {},
   "outputs": [
    {
     "name": "stdout",
     "output_type": "stream",
     "text": [
      "Epoch 1/5\n",
      "27/27 [==============================] - 5s 155ms/step - loss: 0.0000e+00 - accuracy: 0.1084\n",
      "Epoch 2/5\n",
      "27/27 [==============================] - 4s 154ms/step - loss: 0.0000e+00 - accuracy: 0.1084\n",
      "Epoch 3/5\n",
      "27/27 [==============================] - 4s 153ms/step - loss: 0.0000e+00 - accuracy: 0.1084\n",
      "Epoch 4/5\n",
      "27/27 [==============================] - 4s 151ms/step - loss: 0.0000e+00 - accuracy: 0.1084\n",
      "Epoch 5/5\n",
      "27/27 [==============================] - 4s 164ms/step - loss: 0.0000e+00 - accuracy: 0.1084\n"
     ]
    },
    {
     "data": {
      "text/plain": [
       "<keras.callbacks.History at 0x28aaa37f280>"
      ]
     },
     "execution_count": 231,
     "metadata": {},
     "output_type": "execute_result"
    }
   ],
   "source": [
    "model.fit(x_train, y_train, batch_size=10, epochs=5)"
   ]
  },
  {
   "cell_type": "code",
   "execution_count": 232,
   "id": "6bd4e626-af55-487f-a7e6-440868581877",
   "metadata": {},
   "outputs": [
    {
     "name": "stdout",
     "output_type": "stream",
     "text": [
      "WARNING:tensorflow:5 out of the last 13 calls to <function Model.make_predict_function.<locals>.predict_function at 0x0000028AA418F550> triggered tf.function retracing. Tracing is expensive and the excessive number of tracings could be due to (1) creating @tf.function repeatedly in a loop, (2) passing tensors with different shapes, (3) passing Python objects instead of tensors. For (1), please define your @tf.function outside of the loop. For (2), @tf.function has experimental_relax_shapes=True option that relaxes argument shapes that can avoid unnecessary retracing. For (3), please refer to https://www.tensorflow.org/guide/function#controlling_retracing and https://www.tensorflow.org/api_docs/python/tf/function for  more details.\n"
     ]
    },
    {
     "data": {
      "image/png": "[encoded data removed]",
      "text/plain": [
       "<PIL.Image.Image image mode=L size=480x270 at 0x28AA92D3B80>"
      ]
     },
     "execution_count": 232,
     "metadata": {},
     "output_type": "execute_result"
    }
   ],
   "source": [
    "y_pred = model.predict(x_test)\n",
    "pred_img = array_to_img(y_pred[3])\n",
    "pred_img"
   ]
  },
  {
   "cell_type": "code",
   "execution_count": 208,
   "id": "76783095-aa2e-41c4-91d1-46bc297870c5",
   "metadata": {
    "jupyter": {
     "source_hidden": true
    },
    "tags": []
   },
   "outputs": [],
   "source": [
    "import glob\n",
    "\n",
    "# FIXME: tf.data.Dataset maybe faster\n",
    "# e.g. dir_name = 'data/stimuli.out/'\n",
    "def x_from_dir(dir_name):\n",
    "    x_paths = glob.glob(dir_name + '*.jpg', recursive=False)\n",
    "    \n",
    "    # initialize\n",
    "    first_img = load_img(x_paths[0], target_size=(INPUT_HEIGHT, INPUT_WIDTH))\n",
    "    x = img_to_array(first_img).reshape(1,INPUT_HEIGHT,INPUT_WIDTH,INPUT_CHANNEL)\n",
    "    # remaining\n",
    "    for path in x_paths[1:]:\n",
    "        img = load_img(path, target_size=(INPUT_HEIGHT, INPUT_WIDTH))\n",
    "        arr = img_to_array(img).reshape(1,INPUT_HEIGHT,INPUT_WIDTH, INPUT_CHANNEL)\n",
    "        x = np.append(x, arr, axis=0)\n",
    "\n",
    "    return x / 255\n",
    "\n",
    "# FIXME: tf.data.Dataset maybe faster\n",
    "# e.g. dir_name = 'data/heatmap/'\n",
    "def y_from_dir(dir_name):\n",
    "    y_paths = glob.glob(dir_name + '*_heatmap.png', recursive=False)\n",
    "    \n",
    "    # initialize\n",
    "    first_img = load_img(y_paths[0], color_mode='grayscale', target_size=(INPUT_HEIGHT, INPUT_WIDTH))\n",
    "    y = img_to_array(first_img).reshape(1,INPUT_HEIGHT,INPUT_WIDTH,1)\n",
    "    # remaining\n",
    "    for path in y_paths[1:]:\n",
    "        img = load_img(path, color_mode='grayscale', target_size=(INPUT_HEIGHT, INPUT_WIDTH))\n",
    "        arr = img_to_array(img).reshape(1,INPUT_HEIGHT,INPUT_WIDTH,1)\n",
    "        y = np.append(y, arr, axis=0)\n",
    "\n",
    "    return y / 256"
   ]
  }
 ],
 "metadata": {
  "kernelspec": {
   "display_name": "Python 3 (ipykernel)",
   "language": "python",
   "name": "python3"
  },
  "language_info": {
   "codemirror_mode": {
    "name": "ipython",
    "version": 3
   },
   "file_extension": ".py",
   "mimetype": "text/x-python",
   "name": "python",
   "nbconvert_exporter": "python",
   "pygments_lexer": "ipython3",
   "version": "3.9.12"
  }
 },
 "nbformat": 4,
 "nbformat_minor": 5
}
