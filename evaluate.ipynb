{
 "cells": [
  {
   "cell_type": "markdown",
   "id": "2b4cf13d-8aa3-45d1-8509-5171b0e51901",
   "metadata": {},
   "source": [
    "base と truth の l2-distance\n",
    "※path 指定注意"
   ]
  },
  {
   "cell_type": "code",
   "execution_count": 9,
   "id": "c42da1c1-9953-47c4-a1d6-b2adef2342f9",
   "metadata": {},
   "outputs": [],
   "source": [
    "from tensorflow.keras.utils import load_img, img_to_array\n",
    "import glob\n",
    "import numpy as np\n",
    "\n",
    "paths = glob.glob('heatmap/*_heatmap.png', recursive=False)\n",
    "names = []\n",
    "for path in paths:\n",
    "    names.append(path[8:-12])\n",
    "\n",
    "l2_hash = {}\n",
    "for filename in names:\n",
    "    true_path = 'heatmap/' + str(filename) + '_heatmap.png'\n",
    "    true = img_to_array(load_img(true_path, target_size=(200, 200, 1))) / 255\n",
    "    pred_path = 'base/' + str(filename) + '.png'\n",
    "    pred = img_to_array(load_img(pred_path, target_size=(200, 200, 1))) / 255\n",
    "    \n",
    "    l2 = np.linalg.norm(pred-true)\n",
    "    l2_hash[filename] = l2\n",
    "    \n",
    "# save as csv\n",
    "import csv\n",
    "with open('base_evals.csv', 'w') as f:  \n",
    "    writer = csv.writer(f)\n",
    "    for k, v in l2_hash.items():\n",
    "        writer.writerow([k, v])"
   ]
  }
 ],
 "metadata": {
  "kernelspec": {
   "display_name": "Python 3 (ipykernel)",
   "language": "python",
   "name": "python3"
  },
  "language_info": {
   "codemirror_mode": {
    "name": "ipython",
    "version": 3
   },
   "file_extension": ".py",
   "mimetype": "text/x-python",
   "name": "python",
   "nbconvert_exporter": "python",
   "pygments_lexer": "ipython3",
   "version": "3.9.12"
  }
 },
 "nbformat": 4,
 "nbformat_minor": 5
}
